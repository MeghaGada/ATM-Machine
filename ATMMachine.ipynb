{
 "cells": [
  {
   "cell_type": "code",
   "execution_count": null,
   "id": "cf9e78dd",
   "metadata": {},
   "outputs": [],
   "source": [
    "#ATM Machine  - project\n",
    "#Balance amount = 10000\n",
    "#Chances = 3\n",
    "\n",
    "#Pin: 1234\n",
    "#Options (what options you like to choose)\n",
    "#If pin wrong  - print you entered your incorrect\n",
    "#If pin right – print you entered your pin correctly\n",
    "#Press 1 – for your balance\n",
    "#Press 2 to withdraw [50,100,200,500]\n",
    "#If withdraw:  money should be deducted from balance amount and need to display\n",
    "#Press 3 to pay in\n",
    "#If pay in -  money should be added in balance amount\n",
    "#Press 4 to return card\n",
    "#Restart (would you like to go back) or else thank you)\n",
    "\n",
    "restart=('yes')\n",
    "chances = 3\n",
    "balance = 10000\n",
    "while chances > 0:\n",
    "    pin = int(input('Please Enter You 4 Digit Pin: '))\n",
    "    if pin == (1234):\n",
    "        print('You entered you pin Correctly\\n')\n",
    "        while restart == ('yes'):\n",
    "            print('Please Press 1 For Your Balance\\n')\n",
    "            print('Please Press 2 To Withdrawl\\n')\n",
    "            print('Please Press 3 To Pay in\\n')\n",
    "            print('Please Press 4 To Return Card\\n')\n",
    "            option = int(input('what options you like to choose?'))\n",
    "            if option == 1:\n",
    "                print('Your Balance is ',balance,'\\n')\n",
    "                restart = input('Would You you like to go back? ').lower()\n",
    "                if restart == ('no'):\n",
    "                    print('Thank You')\n",
    "                    break\n",
    "            elif option == 2:\n",
    "                option2 = ('yes')\n",
    "                withdrawl = float(input('How much would you like to withdraw? '))\n",
    "                balance = balance - withdrawl\n",
    "                print ('\\nYour Balance is now ',balance)\n",
    "                restart = input('Would You you like to go back? ').lower()\n",
    "                if restart == ('no'):\n",
    "                    print('Thank You')\n",
    "                    break   \n",
    "\n",
    "            elif option == 3:\n",
    "                Pay_in = float(input('How much would you like To Pay In? '))\n",
    "                balance = balance + Pay_in\n",
    "                print ('\\nYour Balance is now ',balance)\n",
    "                restart = input('Would You you like to go back? ').lower()\n",
    "                if restart == ('no'):\n",
    "                    print('Thank You')\n",
    "                    break\n",
    "            elif option == 4:\n",
    "                print('Your card is Returned\\n')\n",
    "                print('Thank you for you service')\n",
    "                break\n",
    "            else:\n",
    "                print('Please Enter correct number. \\n')\n",
    "                restart = ('yes')\n",
    "        break\n",
    "    elif pin != ('1234'):\n",
    "        print('Incorrect Pin')\n",
    "        chances = chances - 1\n",
    "    if chances == 0:\n",
    "        print('\\nNo more tries')\n",
    "        break"
   ]
  },
  {
   "cell_type": "markdown",
   "id": "b75e090a",
   "metadata": {},
   "source": []
  },
  {
   "cell_type": "code",
   "execution_count": null,
   "id": "3d11ecd4",
   "metadata": {},
   "outputs": [],
   "source": []
  },
  {
   "cell_type": "code",
   "execution_count": null,
   "id": "b8826da8",
   "metadata": {},
   "outputs": [],
   "source": []
  },
  {
   "cell_type": "code",
   "execution_count": null,
   "id": "990ebe58",
   "metadata": {},
   "outputs": [],
   "source": []
  },
  {
   "cell_type": "code",
   "execution_count": null,
   "id": "0076365c",
   "metadata": {},
   "outputs": [],
   "source": []
  },
  {
   "cell_type": "code",
   "execution_count": null,
   "id": "3b8d3b60",
   "metadata": {},
   "outputs": [],
   "source": []
  }
 ],
 "metadata": {
  "kernelspec": {
   "display_name": "Python 3",
   "language": "python",
   "name": "python3"
  },
  "language_info": {
   "codemirror_mode": {
    "name": "ipython",
    "version": 3
   },
   "file_extension": ".py",
   "mimetype": "text/x-python",
   "name": "python",
   "nbconvert_exporter": "python",
   "pygments_lexer": "ipython3",
   "version": "3.8.8"
  }
 },
 "nbformat": 4,
 "nbformat_minor": 5
}
